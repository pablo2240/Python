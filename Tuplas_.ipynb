{
  "nbformat": 4,
  "nbformat_minor": 0,
  "metadata": {
    "colab": {
      "provenance": [],
      "authorship_tag": "ABX9TyPMpjagjr351jmAXxYyCB3y",
      "include_colab_link": true
    },
    "kernelspec": {
      "name": "python3",
      "display_name": "Python 3"
    },
    "language_info": {
      "name": "python"
    }
  },
  "cells": [
    {
      "cell_type": "markdown",
      "metadata": {
        "id": "view-in-github",
        "colab_type": "text"
      },
      "source": [
        "<a href=\"https://colab.research.google.com/github/pablo2240/Python/blob/main/Tuplas_.ipynb\" target=\"_parent\"><img src=\"https://colab.research.google.com/assets/colab-badge.svg\" alt=\"Open In Colab\"/></a>"
      ]
    },
    {
      "cell_type": "markdown",
      "source": [
        "# <font color=\"lime\">***Ejercicio 1: Creación y Visualización*** </font>\n",
        "1. Crea una tupla llamada dias_semana con los nombres de los siete días de la semana\n",
        "(Lunes, Martes, etc.).\n",
        "2. Imprime la tupla completa.\n",
        "3. Imprime el primer día de la semana.\n",
        "4. Imprime el último día de la semana.\n"
      ],
      "metadata": {
        "id": "0ZJaATEPDO_k"
      }
    },
    {
      "cell_type": "code",
      "execution_count": null,
      "metadata": {
        "colab": {
          "base_uri": "https://localhost:8080/"
        },
        "id": "V9ORLc3KC53h",
        "outputId": "63756e36-0aaf-4346-8aea-cd4b52dca828"
      },
      "outputs": [
        {
          "output_type": "stream",
          "name": "stdout",
          "text": [
            "('Lunes', 'Martes', 'Miércoles', 'Jueves', 'Viernes', 'Sábado', 'Domingo')\n",
            "Primer día: Lunes\n",
            "Último día: Domingo\n"
          ]
        }
      ],
      "source": [
        "dias_semana = (\"Lunes\", \"Martes\", \"Miércoles\", \"Jueves\", \"Viernes\", \"Sábado\", \"Domingo\")\n",
        "print(dias_semana)\n",
        "print(\"Primer día:\", dias_semana[0])\n",
        "print(\"Último día:\", dias_semana[-1])"
      ]
    },
    {
      "cell_type": "markdown",
      "source": [
        "# <font color=\"yellow\">***Ejercicio 2: Longitud de una Tupla***</font>\n",
        "1. Dada la tupla numeros_primos = (2, 3, 5, 7, 11, 13, 17, 19).\n",
        "2. Escribe un código que imprima cuántos números primos hay en la tupla."
      ],
      "metadata": {
        "id": "1LZsaBDEEGVt"
      }
    },
    {
      "cell_type": "code",
      "source": [
        "numeros_primos = (2, 3, 5, 7, 11, 13, 17, 19)\n",
        "cantidad_numeros_primos = len(numeros_primos)\n",
        "print(\"Cantidad de números primos:\", cantidad_numeros_primos)\n"
      ],
      "metadata": {
        "colab": {
          "base_uri": "https://localhost:8080/"
        },
        "id": "pM5BouxJEPHa",
        "outputId": "19216bbb-a73a-4e97-e5dc-e8e91ce01395"
      },
      "execution_count": null,
      "outputs": [
        {
          "output_type": "stream",
          "name": "stdout",
          "text": [
            "Cantidad de números primos: 8\n"
          ]
        }
      ]
    },
    {
      "cell_type": "markdown",
      "source": [
        "# <font color=\"purple\">***Ejercicio 3: Desempaquetado Simple***</font>\n",
        "1. Define una tupla producto = (&quot;Laptop&quot;, 1200.00, 5). Los elementos son\n",
        "(nombre, precio, cantidad).\n",
        "2. Desempaqueta esta tupla en tres variables separadas: nombre_producto,\n",
        "precio_unitario, stock_disponible.\n",
        "3. Imprime cada variable con un mensaje descriptivo."
      ],
      "metadata": {
        "id": "JW1d7fXgEfeK"
      }
    },
    {
      "cell_type": "code",
      "source": [
        "producto = (\"Laptop\", 1200.00, 5)\n",
        "nombre_producto, precio_unitario, stock_disponible = producto\n",
        "print(\"Nombre del producto:\", nombre_producto)\n",
        "print(\"Precio unitario:\", precio_unitario)\n",
        "print(\"Stock disponible:\", stock_disponible)"
      ],
      "metadata": {
        "colab": {
          "base_uri": "https://localhost:8080/"
        },
        "id": "iho4navyEcCi",
        "outputId": "19f3a031-7569-40bb-af41-77e6d539d909"
      },
      "execution_count": null,
      "outputs": [
        {
          "output_type": "stream",
          "name": "stdout",
          "text": [
            "Nombre del producto: Laptop\n",
            "Precio unitario: 1200.0\n",
            "Stock disponible: 5\n"
          ]
        }
      ]
    },
    {
      "cell_type": "markdown",
      "source": [
        "# <font color=\"red\">***Ejercicio 4: Inmutabilidad en Acción***</font>\n",
        "1. Crea una tupla colores = (&#39;rojo&#39;, &#39;verde&#39;, &#39;azul&#39;).\n",
        "2. Intenta cambiar el segundo elemento de la tupla de &#39;verde&#39; a &#39;amarillo&#39;.\n",
        "3. ¿Qué error obtienes? Explica por qué ocurre este error."
      ],
      "metadata": {
        "id": "UG6CNIlqE-8J"
      }
    },
    {
      "cell_type": "code",
      "source": [
        "\n",
        "colores = ('rojo', 'verde', 'azul')\n",
        "colores[1] = 'amarillo'\n",
        "\n",
        "#TypeError: 'tuple' object does not support item assignment\n",
        "\n",
        "#¿Qué error obtienes? Explica por qué ocurre este error.\n",
        "\"\"\" Se obtiene un TypeError: 'tuple' object does not support item assignment.\n",
        "Este error ocurre porque las tuplas en Python son inmutables.\n",
        "Esto significa que una vez que se crea una tupla, no se pueden cambiar, agregar o eliminar sus elementos. \"\"\""
      ],
      "metadata": {
        "colab": {
          "base_uri": "https://localhost:8080/",
          "height": 159
        },
        "id": "bOAneb3eE-Ez",
        "outputId": "251d9b95-4432-43b0-ecdc-62b491eb0475"
      },
      "execution_count": null,
      "outputs": [
        {
          "output_type": "error",
          "ename": "TypeError",
          "evalue": "'tuple' object does not support item assignment",
          "traceback": [
            "\u001b[0;31m---------------------------------------------------------------------------\u001b[0m",
            "\u001b[0;31mTypeError\u001b[0m                                 Traceback (most recent call last)",
            "\u001b[0;32m<ipython-input-7-4099692242>\u001b[0m in \u001b[0;36m<cell line: 0>\u001b[0;34m()\u001b[0m\n\u001b[1;32m      1\u001b[0m \u001b[0mcolores\u001b[0m \u001b[0;34m=\u001b[0m \u001b[0;34m(\u001b[0m\u001b[0;34m'rojo'\u001b[0m\u001b[0;34m,\u001b[0m \u001b[0;34m'verde'\u001b[0m\u001b[0;34m,\u001b[0m \u001b[0;34m'azul'\u001b[0m\u001b[0;34m)\u001b[0m\u001b[0;34m\u001b[0m\u001b[0;34m\u001b[0m\u001b[0m\n\u001b[0;32m----> 2\u001b[0;31m \u001b[0mcolores\u001b[0m\u001b[0;34m[\u001b[0m\u001b[0;36m1\u001b[0m\u001b[0;34m]\u001b[0m \u001b[0;34m=\u001b[0m \u001b[0;34m'amarillo'\u001b[0m\u001b[0;34m\u001b[0m\u001b[0;34m\u001b[0m\u001b[0m\n\u001b[0m",
            "\u001b[0;31mTypeError\u001b[0m: 'tuple' object does not support item assignment"
          ]
        }
      ]
    },
    {
      "cell_type": "markdown",
      "source": [
        "# <font color= #FB9E3A>***Ejercicio 5: Verificar Existencia***</font>\n",
        "1. Dada la tupla frutas = (&#39;manzana&#39;, &#39;banana&#39;, &#39;cereza&#39;, &#39;uva&#39;, &#39;kiwi&#39;).\n",
        "2. Verifica si &#39;banana&#39; está en la tupla e imprime un mensaje indicándolo.\n",
        "3. Verifica si &#39;naranja&#39; está en la tupla e imprime un mensaje indicándolo."
      ],
      "metadata": {
        "id": "Rfv2KEVpGQlq"
      }
    },
    {
      "cell_type": "code",
      "source": [
        "frutas = ('manzana', 'banana', 'cereza', 'uva', 'kiwi')\n",
        "if 'banana' in frutas:\n",
        "  print(\"Sí, 'banana' está en la tupla frutas.\")\n",
        "else:\n",
        "  print(\"No, 'banana' no está en la tupla frutas.\")\n",
        "if 'naranja' in frutas:\n",
        "  print(\"Sí, 'naranja' está en la tupla frutas.\")\n",
        "else:\n",
        "  print(\"No, 'naranja' no está en la tupla frutas.\")"
      ],
      "metadata": {
        "colab": {
          "base_uri": "https://localhost:8080/"
        },
        "id": "ug3fnlnCGHba",
        "outputId": "191ff86f-4e57-45df-b750-e7b05fc1c668"
      },
      "execution_count": null,
      "outputs": [
        {
          "output_type": "stream",
          "name": "stdout",
          "text": [
            "Sí, 'banana' está en la tupla frutas.\n",
            "No, 'naranja' no está en la tupla frutas.\n"
          ]
        }
      ]
    },
    {
      "cell_type": "markdown",
      "source": [
        "# <font color=EA2F14>***Ejercicio 6: Contar Ocurrencias***</font>\n",
        "1. Tienes la tupla animales = (&#39;perro&#39;, &#39;gato&#39;, &#39;perro&#39;, &#39;conejo&#39;, &#39;gato&#39;,\n",
        "&#39;perro&#39;).\n",
        "2. Cuenta cuántas veces aparece &#39;perro&#39; en la tupla.\n",
        "3. Cuenta cuántas veces aparece &#39;gato&#39;"
      ],
      "metadata": {
        "id": "R8texxX9JZJp"
      }
    },
    {
      "cell_type": "code",
      "source": [
        "animales = ('perro', 'gato', 'perro', 'conejo', 'gato', 'perro')\n",
        "conteo_perro = animales.count('perro')\n",
        "conteo_gato = animales.count('gato')\n",
        "\n",
        "print(\"Número de veces que aparece 'perro':\", conteo_perro)\n",
        "print(\"Número de veces que aparece 'gato':\", conteo_gato)\n"
      ],
      "metadata": {
        "colab": {
          "base_uri": "https://localhost:8080/"
        },
        "id": "vVU1xF0QJYty",
        "outputId": "39902596-2267-482d-dbe1-028070773ef5"
      },
      "execution_count": null,
      "outputs": [
        {
          "output_type": "stream",
          "name": "stdout",
          "text": [
            "Número de veces que aparece 'perro': 3\n",
            "Número de veces que aparece 'gato': 2\n"
          ]
        }
      ]
    },
    {
      "cell_type": "markdown",
      "source": [
        "# <font color=B33791>***Ejercicio 7: Combinar Tuplas***</font>\n",
        "1. Crea dos tuplas: vocales = (&#39;a&#39;, &#39;e&#39;, &#39;i&#39;, &#39;o&#39;, &#39;u&#39;) y numeros_pares =\n",
        "(2, 4, 6, 8).\n",
        "2. Combina estas dos tuplas en una nueva tupla llamada combinada.\n",
        "\n",
        "3. Imprime la tupla combinada."
      ],
      "metadata": {
        "id": "q96udLthJuY_"
      }
    },
    {
      "cell_type": "code",
      "source": [
        "vocales = ('a', 'e', 'i', 'o', 'u')\n",
        "numeros_pares = (2, 4, 6, 8)\n",
        "combinada = vocales + numeros_pares\n",
        "combinada"
      ],
      "metadata": {
        "colab": {
          "base_uri": "https://localhost:8080/"
        },
        "id": "WRmE2TI5J87_",
        "outputId": "7502fff6-fd65-4199-a490-7f3ebab921ae"
      },
      "execution_count": null,
      "outputs": [
        {
          "output_type": "execute_result",
          "data": {
            "text/plain": [
              "('a', 'e', 'i', 'o', 'u', 2, 4, 6, 8)"
            ]
          },
          "metadata": {},
          "execution_count": 10
        }
      ]
    },
    {
      "cell_type": "markdown",
      "source": [
        "# <font color=075B5E>***Ejercicio 8: Tuplas Anidadas y Acceso***</font>\n",
        "1. Define una tupla tienda = (&quot;Nombre Tienda&quot;, (&quot;Dirección 123&quot;, &quot;Ciudad\n",
        "X&quot;), (&quot;Telefono&quot;, &quot;Email&quot;)).\n",
        "2. Accede e imprime el nombre de la tienda.\n",
        "3. Accede e imprime la ciudad de la tienda.\n",
        "4. Accede e imprime el teléfono de la tienda."
      ],
      "metadata": {
        "id": "IALMRZ29KBsD"
      }
    },
    {
      "cell_type": "code",
      "source": [
        "tienda = (\"Nombre Tienda\", (\"Dirección 123\", \"Ciudad X\"), (\"Telefono\", \"Email\"))\n",
        "\n",
        "nombre_tienda = tienda[0]\n",
        "print(\"Nombre de la tienda:\", nombre_tienda)\n",
        "\n",
        "ciudad_tienda = tienda[1][1]\n",
        "print(\"Ciudad de la tienda:\", ciudad_tienda)\n",
        "\n",
        "telefono_tienda = tienda[2][0]\n",
        "print(\"Teléfono de la tienda:\", telefono_tienda)"
      ],
      "metadata": {
        "colab": {
          "base_uri": "https://localhost:8080/"
        },
        "id": "NDPMxd0JKM3V",
        "outputId": "c02981a1-aa76-4501-f936-30a7672e947e"
      },
      "execution_count": null,
      "outputs": [
        {
          "output_type": "stream",
          "name": "stdout",
          "text": [
            "Nombre de la tienda: Nombre Tienda\n",
            "Ciudad de la tienda: Ciudad X\n",
            "Teléfono de la tienda: Telefono\n"
          ]
        }
      ]
    },
    {
      "cell_type": "markdown",
      "source": [
        "# <font color=B8CFCE>***Ejercicio 9: Conversión entre Tipos***</font>\n",
        "1. Tienes una lista de enteros: lista_numeros = [10, 20, 30, 40, 50].\n",
        "2. Convierte lista_numeros en una tupla llamada tupla_de_numeros.\n",
        "3. Convierte tupla_de_numeros de nuevo en una lista llamada\n",
        "nueva_lista_numeros.\n",
        "4. Añade el número 60 a nueva_lista_numeros.\n",
        "5. Imprime nueva_lista_numeros."
      ],
      "metadata": {
        "id": "C74xPQavKych"
      }
    },
    {
      "cell_type": "code",
      "source": [
        "lista_numeros = [10, 20, 30, 40, 50]\n",
        "tupla_de_numeros = tuple(lista_numeros)\n",
        "nueva_lista_numeros = list(tupla_de_numeros)\n",
        "nueva_lista_numeros.append(60)\n",
        "nueva_lista_numeros"
      ],
      "metadata": {
        "colab": {
          "base_uri": "https://localhost:8080/"
        },
        "id": "1L-b5PgdKxEZ",
        "outputId": "a114d21c-2ab2-4e60-8649-f694f6a2a2b0"
      },
      "execution_count": null,
      "outputs": [
        {
          "output_type": "execute_result",
          "data": {
            "text/plain": [
              "[10, 20, 30, 40, 50, 60]"
            ]
          },
          "metadata": {},
          "execution_count": 8
        }
      ]
    },
    {
      "cell_type": "markdown",
      "source": [
        "# <font color=B0DB9C>***Ejercicio 10: Procesamiento de Datos con Ciclo***</font>\n",
        "1. Tienes una tupla de tuplas con información de productos: productos =\n",
        "((&quot;Camisa&quot;, 25.50), (&quot;Pantalón&quot;, 40.00), (&quot;Zapatos&quot;, 75.00)). Cada\n",
        "tupla interna es (nombre, precio).\n",
        "2. Usa un ciclo for para imprimir cada producto en el siguiente formato: &quot;Producto:\n",
        "[Nombre], Precio: [Precio]&quot;.\n",
        "3. Calcula el precio total si compraras uno de cada producto e imprímelo."
      ],
      "metadata": {
        "id": "Kgg_Ak3VLKmV"
      }
    },
    {
      "cell_type": "code",
      "source": [
        "productos = ((\"Camisa\", 25.50), (\"Pantalón\", 40.00), (\"Zapatos\", 75.00))\n",
        "\n",
        "precio_total = 0.0\n",
        "for producto in productos:\n",
        "  nombre, precio = producto\n",
        "  print(f\"Producto: {nombre}, Precio: {precio}\")\n",
        "  precio_total += precio\n",
        "\n",
        "print(f\"Precio total: {precio_total}\")"
      ],
      "metadata": {
        "id": "tCpmFmNGLVvz",
        "colab": {
          "base_uri": "https://localhost:8080/"
        },
        "outputId": "d220cda0-190f-4ef7-afe4-834587f3f19c"
      },
      "execution_count": 13,
      "outputs": [
        {
          "output_type": "stream",
          "name": "stdout",
          "text": [
            "Producto: Camisa, Precio: 25.5\n",
            "Producto: Pantalón, Precio: 40.0\n",
            "Producto: Zapatos, Precio: 75.0\n",
            "Precio total: 140.5\n"
          ]
        }
      ]
    }
  ]
}